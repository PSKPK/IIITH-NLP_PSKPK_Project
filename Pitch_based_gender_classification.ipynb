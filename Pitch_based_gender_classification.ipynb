{
  "nbformat": 4,
  "nbformat_minor": 0,
  "metadata": {
    "colab": {
      "name": "Pitch_based_gender_classification.ipynb",
      "provenance": [],
      "authorship_tag": "ABX9TyMmWq5V6ybKBIBuJAwoUwWA",
      "include_colab_link": true
    },
    "kernelspec": {
      "name": "python3",
      "display_name": "Python 3"
    },
    "language_info": {
      "name": "python"
    }
  },
  "cells": [
    {
      "cell_type": "markdown",
      "metadata": {
        "id": "view-in-github",
        "colab_type": "text"
      },
      "source": [
        "<a href=\"https://colab.research.google.com/github/PSKPK/IIITH-NLP_PSKPK_Project/blob/main/Pitch_based_gender_classification.ipynb\" target=\"_parent\"><img src=\"https://colab.research.google.com/assets/colab-badge.svg\" alt=\"Open In Colab\"/></a>"
      ]
    },
    {
      "cell_type": "code",
      "execution_count": 1,
      "metadata": {
        "colab": {
          "base_uri": "https://localhost:8080/"
        },
        "id": "IV-_XXXO-OAZ",
        "outputId": "6a72b8c9-a0fe-4766-addf-b253b78cb91c"
      },
      "outputs": [
        {
          "output_type": "stream",
          "name": "stdout",
          "text": [
            "Collecting crepe\n",
            "  Downloading crepe-0.0.12.tar.gz (15 kB)\n",
            "Requirement already satisfied: numpy>=1.14.0 in /usr/local/lib/python3.7/dist-packages (from crepe) (1.21.6)\n",
            "Requirement already satisfied: scipy>=1.0.0 in /usr/local/lib/python3.7/dist-packages (from crepe) (1.4.1)\n",
            "Requirement already satisfied: matplotlib>=2.1.0 in /usr/local/lib/python3.7/dist-packages (from crepe) (3.2.2)\n",
            "Requirement already satisfied: resampy<0.3.0,>=0.2.0 in /usr/local/lib/python3.7/dist-packages (from crepe) (0.2.2)\n",
            "Requirement already satisfied: h5py in /usr/local/lib/python3.7/dist-packages (from crepe) (3.1.0)\n",
            "Collecting hmmlearn<0.3.0,>=0.2.0\n",
            "  Downloading hmmlearn-0.2.7-cp37-cp37m-manylinux_2_12_x86_64.manylinux2010_x86_64.whl (129 kB)\n",
            "\u001b[K     |████████████████████████████████| 129 kB 8.0 MB/s \n",
            "\u001b[?25hRequirement already satisfied: imageio>=2.3.0 in /usr/local/lib/python3.7/dist-packages (from crepe) (2.4.1)\n",
            "Requirement already satisfied: scikit-learn>=0.16 in /usr/local/lib/python3.7/dist-packages (from crepe) (1.0.2)\n",
            "Requirement already satisfied: pillow in /usr/local/lib/python3.7/dist-packages (from imageio>=2.3.0->crepe) (7.1.2)\n",
            "Requirement already satisfied: cycler>=0.10 in /usr/local/lib/python3.7/dist-packages (from matplotlib>=2.1.0->crepe) (0.11.0)\n",
            "Requirement already satisfied: python-dateutil>=2.1 in /usr/local/lib/python3.7/dist-packages (from matplotlib>=2.1.0->crepe) (2.8.2)\n",
            "Requirement already satisfied: kiwisolver>=1.0.1 in /usr/local/lib/python3.7/dist-packages (from matplotlib>=2.1.0->crepe) (1.4.2)\n",
            "Requirement already satisfied: pyparsing!=2.0.4,!=2.1.2,!=2.1.6,>=2.0.1 in /usr/local/lib/python3.7/dist-packages (from matplotlib>=2.1.0->crepe) (3.0.8)\n",
            "Requirement already satisfied: typing-extensions in /usr/local/lib/python3.7/dist-packages (from kiwisolver>=1.0.1->matplotlib>=2.1.0->crepe) (4.1.1)\n",
            "Requirement already satisfied: six>=1.5 in /usr/local/lib/python3.7/dist-packages (from python-dateutil>=2.1->matplotlib>=2.1.0->crepe) (1.15.0)\n",
            "Requirement already satisfied: numba>=0.32 in /usr/local/lib/python3.7/dist-packages (from resampy<0.3.0,>=0.2.0->crepe) (0.51.2)\n",
            "Requirement already satisfied: setuptools in /usr/local/lib/python3.7/dist-packages (from numba>=0.32->resampy<0.3.0,>=0.2.0->crepe) (57.4.0)\n",
            "Requirement already satisfied: llvmlite<0.35,>=0.34.0.dev0 in /usr/local/lib/python3.7/dist-packages (from numba>=0.32->resampy<0.3.0,>=0.2.0->crepe) (0.34.0)\n",
            "Requirement already satisfied: joblib>=0.11 in /usr/local/lib/python3.7/dist-packages (from scikit-learn>=0.16->crepe) (1.1.0)\n",
            "Requirement already satisfied: threadpoolctl>=2.0.0 in /usr/local/lib/python3.7/dist-packages (from scikit-learn>=0.16->crepe) (3.1.0)\n",
            "Requirement already satisfied: cached-property in /usr/local/lib/python3.7/dist-packages (from h5py->crepe) (1.5.2)\n",
            "Building wheels for collected packages: crepe\n",
            "  Building wheel for crepe (setup.py) ... \u001b[?25l\u001b[?25hdone\n",
            "  Created wheel for crepe: filename=crepe-0.0.12-py3-none-any.whl size=134848696 sha256=94b16595a2364b5ba7c8255e9c57c757396a2f7f388b61edfb78a64090941fee\n",
            "  Stored in directory: /root/.cache/pip/wheels/56/05/32/fccf64e8ae720b34b486b6a8a08712777fd0beab419980fea3\n",
            "Successfully built crepe\n",
            "Installing collected packages: hmmlearn, crepe\n",
            "Successfully installed crepe-0.0.12 hmmlearn-0.2.7\n"
          ]
        }
      ],
      "source": [
        "pip install crepe"
      ]
    },
    {
      "cell_type": "code",
      "source": [
        "import crepe\n",
        "from scipy.io import wavfile\n",
        "\n",
        "sr,audio = wavfile.read('Input.wav')\n",
        "time, frequency, confidence, activation = crepe.predict(audio, sr, viterbi=True)\n",
        "\n",
        "n = len(frequency)\n",
        "\n",
        "print(\"Frequency values : \")\n",
        "f = sum(frequency)/len(frequency)\n",
        "print(\"Overall average : \",f)\n",
        "f1 = sum(frequency[:n//4])/(n//4)\n",
        "f2 = sum(frequency[n//4:n//2])/(n//4)\n",
        "f3 = sum(frequency[n//2:(3*n)//4])/(n//4)\n",
        "f4 = sum(frequency[(3*n)//4:])/(n//4)\n",
        "print(\"Frequency of first quarter,  F1 : \",f1)\n",
        "print(\"Frequency of second quarter, F2 : \",f2)\n",
        "print(\"Frequency of third quarter,  F3 : \",f3)\n",
        "print(\"Frequency of fourth quarter, F4 : \",f4)\n",
        "f = max(f,(f1+f2+f3+f4)/4)\n",
        "print(\"Renewed Average : \",str(f)[:7])\n",
        "print()\n",
        "print()\n",
        "\n",
        "\n",
        "if 160<f and f<200:\n",
        "  fperc = (200-f)*2\n",
        "  mperc = 100-fperc\n",
        "  ans = str(mperc)+'% Male  and  '+str(fperc)+'% Female'\n",
        "elif 60<f and f<190:\n",
        "  ans = 'Male'\n",
        "elif 170<f and f<300:\n",
        "  ans = 'Female'\n",
        "elif f < 60:\n",
        "  ans = 'Pitch too low to classify'\n",
        "elif f > 350:\n",
        "  ans = 'Pitch too high to classify'\n",
        "\n",
        "print(\"Classification : \",ans,end = ' ')\n",
        "if ans[0]=='P':\n",
        "  print(\", please input another file for next try\")"
      ],
      "metadata": {
        "colab": {
          "base_uri": "https://localhost:8080/"
        },
        "id": "irN4JwlL-YWo",
        "outputId": "d4db68fe-8ec3-4be6-f4b6-19a0b1ca2a48"
      },
      "execution_count": 2,
      "outputs": [
        {
          "output_type": "stream",
          "name": "stdout",
          "text": [
            "6/6 [==============================] - 8s 1s/step\n",
            "Frequency values : \n",
            "Overall average :  181.04909003972807\n",
            "Frequency of first quarter,  F1 :  173.8042444024087\n",
            "Frequency of second quarter, F2 :  165.9356974053317\n",
            "Frequency of third quarter,  F3 :  145.69885965720044\n",
            "Frequency of fourth quarter, F4 :  246.80418491795965\n",
            "Renewed Average :  183.060\n",
            "\n",
            "\n",
            "Classification :  66.12149319145021% Male  and  33.87850680854979% Female "
          ]
        }
      ]
    }
  ]
}